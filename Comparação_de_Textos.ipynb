{
  "nbformat": 4,
  "nbformat_minor": 0,
  "metadata": {
    "colab": {
      "provenance": [],
      "authorship_tag": "ABX9TyMklrJN3BLKXr2lZ0/Ye4D9",
      "include_colab_link": true
    },
    "kernelspec": {
      "name": "python3",
      "display_name": "Python 3"
    },
    "language_info": {
      "name": "python"
    }
  },
  "cells": [
    {
      "cell_type": "markdown",
      "metadata": {
        "id": "view-in-github",
        "colab_type": "text"
      },
      "source": [
        "<a href=\"https://colab.research.google.com/github/luisahamon/MedRoom.AI.Test/blob/develop/Compara%C3%A7%C3%A3o_de_Textos.ipynb\" target=\"_parent\"><img src=\"https://colab.research.google.com/assets/colab-badge.svg\" alt=\"Open In Colab\"/></a>"
      ]
    },
    {
      "cell_type": "markdown",
      "source": [
        "Esse projeto visa comparar uma frase original com outras 3 possíveis alternativas de frases que poderiam ser usadas no contexto da anamnese clínica e consequentemente integrar as situações que o software da MedRoom simula "
      ],
      "metadata": {
        "id": "vI6iJ_Qbqhnk"
      }
    },
    {
      "cell_type": "markdown",
      "source": [
        "#Importação das Bibliotecas"
      ],
      "metadata": {
        "id": "0gxP4Jh4mRD3"
      }
    },
    {
      "cell_type": "code",
      "execution_count": 20,
      "metadata": {
        "id": "5lsPIK3YluJW"
      },
      "outputs": [],
      "source": [
        "import numpy as np\n",
        "import sklearn"
      ]
    },
    {
      "cell_type": "markdown",
      "source": [
        "#Criação das variáveis"
      ],
      "metadata": {
        "id": "DMAL3J7fmXC6"
      }
    },
    {
      "cell_type": "code",
      "source": [
        "texto_original = \"Olhando para a escala na parede, qual valor indicaria melhor a sua dor hoje?\"\n",
        "texto_comparativo1 = \"De acordo com a escala de dor ali na parede, qual valor você acha que mais representa a sua dor?\"\n",
        "texto_comparativo2 = \"De 0 a 10, qual o nível de intensidade da sua dor atualmente?\"\n",
        "texto_comparativo3 = \"Qual a intensidade da sua dor?\""
      ],
      "metadata": {
        "id": "68bBvdXlmL7B"
      },
      "execution_count": 21,
      "outputs": []
    },
    {
      "cell_type": "markdown",
      "source": [
        "#Criação do Vocabulário"
      ],
      "metadata": {
        "id": "1qBjav-hrVVp"
      }
    },
    {
      "cell_type": "markdown",
      "source": [
        "O computador não compreende a linguagem human, em nenhum de seus idiomas, então devemos transformar as palavras em números, que são entidades compreendidas pela máquina "
      ],
      "metadata": {
        "id": "J8bc57eHrZ2r"
      }
    },
    {
      "cell_type": "markdown",
      "source": [
        "Como quero comparar cada palavra presente nas fases vou usar o unigrama"
      ],
      "metadata": {
        "id": "sgjiztubtQC2"
      }
    },
    {
      "cell_type": "code",
      "source": [
        "from sklearn.feature_extraction.text import CountVectorizer"
      ],
      "metadata": {
        "id": "wY44ImnTsHt2"
      },
      "execution_count": 22,
      "outputs": []
    },
    {
      "cell_type": "code",
      "source": [
        "n = 1\n",
        "palavras = CountVectorizer(analyzer='word', ngram_range=(n,n))"
      ],
      "metadata": {
        "id": "_kVmb10XrZIq"
      },
      "execution_count": 23,
      "outputs": []
    },
    {
      "cell_type": "code",
      "source": [
        "vocab1 = palavras.fit([texto_comparativo1, texto_original]).vocabulary_"
      ],
      "metadata": {
        "id": "_PSQbsHQsq6f"
      },
      "execution_count": 24,
      "outputs": []
    },
    {
      "cell_type": "code",
      "source": [
        "print(vocab1)"
      ],
      "metadata": {
        "colab": {
          "base_uri": "https://localhost:8080/"
        },
        "id": "ePNmzrMotBEK",
        "outputId": "0f77e2b5-dbd7-466a-9232-d7f79e9533db"
      },
      "execution_count": 25,
      "outputs": [
        {
          "output_type": "stream",
          "name": "stdout",
          "text": [
            "{'de': 4, 'acordo': 1, 'com': 3, 'escala': 6, 'dor': 5, 'ali': 2, 'na': 11, 'parede': 14, 'qual': 15, 'valor': 19, 'você': 20, 'acha': 0, 'que': 16, 'mais': 9, 'representa': 17, 'sua': 18, 'olhando': 12, 'para': 13, 'indicaria': 8, 'melhor': 10, 'hoje': 7}\n"
          ]
        }
      ]
    },
    {
      "cell_type": "code",
      "source": [
        "vocab2 = palavras.fit([texto_comparativo2, texto_original]).vocabulary_"
      ],
      "metadata": {
        "id": "7oWZoC16tEMZ"
      },
      "execution_count": 26,
      "outputs": []
    },
    {
      "cell_type": "code",
      "source": [
        "print(vocab2)"
      ],
      "metadata": {
        "colab": {
          "base_uri": "https://localhost:8080/"
        },
        "id": "IN9U33EOtvWK",
        "outputId": "831ffe07-29c4-44ec-a063-9791989384a1"
      },
      "execution_count": 27,
      "outputs": [
        {
          "output_type": "stream",
          "name": "stdout",
          "text": [
            "{'de': 3, '10': 0, 'qual': 15, 'nível': 11, 'intensidade': 8, 'da': 2, 'sua': 16, 'dor': 4, 'atualmente': 1, 'olhando': 12, 'para': 13, 'escala': 5, 'na': 10, 'parede': 14, 'valor': 17, 'indicaria': 7, 'melhor': 9, 'hoje': 6}\n"
          ]
        }
      ]
    },
    {
      "cell_type": "code",
      "source": [
        "vocab3 = palavras.fit([texto_comparativo3, texto_original]).vocabulary_"
      ],
      "metadata": {
        "id": "MaVAdzgJtvqS"
      },
      "execution_count": 28,
      "outputs": []
    },
    {
      "cell_type": "code",
      "source": [
        "print(vocab3)"
      ],
      "metadata": {
        "colab": {
          "base_uri": "https://localhost:8080/"
        },
        "id": "6sFXGxvzt283",
        "outputId": "09fbb00e-d06a-49bf-ed4a-02e59be964fe"
      },
      "execution_count": 29,
      "outputs": [
        {
          "output_type": "stream",
          "name": "stdout",
          "text": [
            "{'qual': 11, 'intensidade': 5, 'da': 0, 'sua': 12, 'dor': 1, 'olhando': 8, 'para': 9, 'escala': 2, 'na': 7, 'parede': 10, 'valor': 13, 'indicaria': 4, 'melhor': 6, 'hoje': 3}\n"
          ]
        }
      ]
    },
    {
      "cell_type": "markdown",
      "source": [
        "#Transformação dos Vocabulários em Arrays"
      ],
      "metadata": {
        "id": "BfE-Y5pfuamQ"
      }
    },
    {
      "cell_type": "code",
      "source": [
        "array1 = palavras.fit_transform([texto_comparativo1, texto_original]).toarray()"
      ],
      "metadata": {
        "id": "sqU6qrRqt5Dl"
      },
      "execution_count": 32,
      "outputs": []
    },
    {
      "cell_type": "code",
      "source": [
        "print(array1)"
      ],
      "metadata": {
        "colab": {
          "base_uri": "https://localhost:8080/"
        },
        "id": "5T4O6wUTu3wl",
        "outputId": "e4e44017-dd9e-4490-a7bc-fc4fa01d4859"
      },
      "execution_count": 33,
      "outputs": [
        {
          "output_type": "stream",
          "name": "stdout",
          "text": [
            "[[1 1 1 1 2 2 1 0 0 1 0 1 0 0 1 1 1 1 1 1 1]\n",
            " [0 0 0 0 0 1 1 1 1 0 1 1 1 1 1 1 0 0 1 1 0]]\n"
          ]
        }
      ]
    },
    {
      "cell_type": "markdown",
      "source": [
        "Equivalências, ou seja números que se repetiram na mesma posição em ambas as frases: 6 ocorrências"
      ],
      "metadata": {
        "id": "8PnKvlB0vtKi"
      }
    },
    {
      "cell_type": "code",
      "source": [
        "array2 = palavras.fit_transform([texto_comparativo2, texto_original]).toarray()"
      ],
      "metadata": {
        "id": "Wgv6xMx-u5V4"
      },
      "execution_count": 34,
      "outputs": []
    },
    {
      "cell_type": "code",
      "source": [
        "print(array2)"
      ],
      "metadata": {
        "colab": {
          "base_uri": "https://localhost:8080/"
        },
        "id": "EGsDQlikvOqK",
        "outputId": "3e1e0706-f8c9-42fd-937a-019cef4d97f9"
      },
      "execution_count": 35,
      "outputs": [
        {
          "output_type": "stream",
          "name": "stdout",
          "text": [
            "[[1 1 1 2 1 0 0 0 1 0 0 1 0 0 0 1 1 0]\n",
            " [0 0 0 0 1 1 1 1 0 1 1 0 1 1 1 1 1 1]]\n"
          ]
        }
      ]
    },
    {
      "cell_type": "markdown",
      "source": [
        "Equivalências: 3 ocorrências"
      ],
      "metadata": {
        "id": "juZY7SWjv_3t"
      }
    },
    {
      "cell_type": "code",
      "source": [
        "array3 = palavras.fit_transform([texto_comparativo3, texto_original]).toarray()"
      ],
      "metadata": {
        "id": "BxFAohLrvQfq"
      },
      "execution_count": 36,
      "outputs": []
    },
    {
      "cell_type": "code",
      "source": [
        "print(array3)"
      ],
      "metadata": {
        "colab": {
          "base_uri": "https://localhost:8080/"
        },
        "id": "LzcrTW0UvTnq",
        "outputId": "c7723a51-f5a1-4dad-a496-f34285d05961"
      },
      "execution_count": 37,
      "outputs": [
        {
          "output_type": "stream",
          "name": "stdout",
          "text": [
            "[[1 1 0 0 0 1 0 0 0 0 0 1 1 0]\n",
            " [0 1 1 1 1 0 1 1 1 1 1 1 1 1]]\n"
          ]
        }
      ]
    },
    {
      "cell_type": "markdown",
      "source": [
        "Equivalências: 3 ocorrências"
      ],
      "metadata": {
        "id": "1upvUVq8wHsx"
      }
    },
    {
      "cell_type": "markdown",
      "source": [
        "#Criando uma Medida de Similaridade"
      ],
      "metadata": {
        "id": "EkRSmvjKwq4D"
      }
    },
    {
      "cell_type": "markdown",
      "source": [
        "Vou pegar as interseções entre os arrays"
      ],
      "metadata": {
        "id": "rUHhBVHrxA1j"
      }
    },
    {
      "cell_type": "code",
      "source": [
        "interseccoes1 = np.sum(np.amin(array1, axis=0))\n",
        "interseccoes1"
      ],
      "metadata": {
        "colab": {
          "base_uri": "https://localhost:8080/"
        },
        "id": "RHqwBAAVvYWy",
        "outputId": "c01339d3-4ba0-4f5c-d048-3f787b591afe"
      },
      "execution_count": 49,
      "outputs": [
        {
          "output_type": "execute_result",
          "data": {
            "text/plain": [
              "7"
            ]
          },
          "metadata": {},
          "execution_count": 49
        }
      ]
    },
    {
      "cell_type": "code",
      "source": [
        "interseccoes2 = np.sum(np.amin(array2, axis=0))\n",
        "interseccoes2"
      ],
      "metadata": {
        "colab": {
          "base_uri": "https://localhost:8080/"
        },
        "id": "22IaiGDUxakq",
        "outputId": "cd45ae45-92f4-4fe7-9ca3-7c1c1f09b52c"
      },
      "execution_count": 50,
      "outputs": [
        {
          "output_type": "execute_result",
          "data": {
            "text/plain": [
              "3"
            ]
          },
          "metadata": {},
          "execution_count": 50
        }
      ]
    },
    {
      "cell_type": "code",
      "source": [
        "interseccoes3 = np.sum(np.amin(array3, axis=0))\n",
        "interseccoes3"
      ],
      "metadata": {
        "colab": {
          "base_uri": "https://localhost:8080/"
        },
        "id": "ed-Z3aQwxkrR",
        "outputId": "9c3f4967-286e-4ac8-99ec-769475276b7b"
      },
      "execution_count": 51,
      "outputs": [
        {
          "output_type": "execute_result",
          "data": {
            "text/plain": [
              "3"
            ]
          },
          "metadata": {},
          "execution_count": 51
        }
      ]
    },
    {
      "cell_type": "markdown",
      "source": [
        "O texto_comparativo1 tem 7 semelhanças e os outros têm 3 semelhanças cada"
      ],
      "metadata": {
        "id": "-UQvxbz9yav3"
      }
    },
    {
      "cell_type": "markdown",
      "source": [
        "#Score de Semelhança"
      ],
      "metadata": {
        "id": "8ZK4kOPIy_PS"
      }
    },
    {
      "cell_type": "code",
      "source": [
        "divisor = palavras.fit_transform([texto_original]).toarray()"
      ],
      "metadata": {
        "id": "cAWuK2rk6AMC"
      },
      "execution_count": 67,
      "outputs": []
    },
    {
      "cell_type": "code",
      "source": [
        "index = 0\n",
        "count1 = np.sum(divisor[index])\n",
        "count1"
      ],
      "metadata": {
        "colab": {
          "base_uri": "https://localhost:8080/"
        },
        "id": "mV1ooymVxokJ",
        "outputId": "bb342364-c40f-420a-e14a-5083735a59ce"
      },
      "execution_count": 68,
      "outputs": [
        {
          "output_type": "execute_result",
          "data": {
            "text/plain": [
              "12"
            ]
          },
          "metadata": {},
          "execution_count": 68
        }
      ]
    },
    {
      "cell_type": "code",
      "source": [
        "interseccoes1/count1"
      ],
      "metadata": {
        "colab": {
          "base_uri": "https://localhost:8080/"
        },
        "id": "SCr2Gc2Ezuy0",
        "outputId": "544e0bae-3719-4047-beb2-2ef512b65063"
      },
      "execution_count": 69,
      "outputs": [
        {
          "output_type": "execute_result",
          "data": {
            "text/plain": [
              "0.5833333333333334"
            ]
          },
          "metadata": {},
          "execution_count": 69
        }
      ]
    },
    {
      "cell_type": "code",
      "source": [
        "interseccoes2/count1"
      ],
      "metadata": {
        "colab": {
          "base_uri": "https://localhost:8080/"
        },
        "id": "6RvFBbmlz0q0",
        "outputId": "a0aa823a-6907-4c2d-d5c9-88097e96c482"
      },
      "execution_count": 72,
      "outputs": [
        {
          "output_type": "execute_result",
          "data": {
            "text/plain": [
              "0.25"
            ]
          },
          "metadata": {},
          "execution_count": 72
        }
      ]
    },
    {
      "cell_type": "code",
      "source": [
        "interseccoes3/count1"
      ],
      "metadata": {
        "colab": {
          "base_uri": "https://localhost:8080/"
        },
        "id": "eDOkztUw0ABT",
        "outputId": "081c8639-b332-4051-f75a-8a1433b213b1"
      },
      "execution_count": 73,
      "outputs": [
        {
          "output_type": "execute_result",
          "data": {
            "text/plain": [
              "0.25"
            ]
          },
          "metadata": {},
          "execution_count": 73
        }
      ]
    },
    {
      "cell_type": "markdown",
      "source": [
        "**Conclusão**"
      ],
      "metadata": {
        "id": "d61bmyJE6bmJ"
      }
    },
    {
      "cell_type": "markdown",
      "source": [
        "- O texto comparativo 1 se mostrou o melhor apresentando uma semelhança de 58,33% com a frase original\n",
        "\n",
        "- O texto comparativo 2 apresentou 25% de semelhança\n",
        "\n",
        "- O mesmo aconteceu com o texto 3, tem 25% de semelhança"
      ],
      "metadata": {
        "id": "ijr2uTot6toZ"
      }
    }
  ]
}